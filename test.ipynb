{
 "cells": [
  {
   "cell_type": "markdown",
   "metadata": {},
   "source": [
    "<center>\n",
    "    <img src=\"https://s3-api.us-geo.objectstorage.softlayer.net/cf-courses-data/CognitiveClass/Logos/organization_logo/organization_logo.png\" width=\"300\" alt=\"cognitiveclass.ai logo\"  />\n",
    "</center>\n"
   ]
  },
  {
   "cell_type": "markdown",
   "metadata": {},
   "source": [
    "#### Add your code below following the instructions given in the course\n"
   ]
  },
  {
   "cell_type": "markdown",
   "metadata": {},
   "source": [
    "<h1>My Jupyter Notebook on IBM Watson Studio</h1>"
   ]
  },
  {
   "cell_type": "markdown",
   "metadata": {},
   "source": [
    "<strong>Khushi Sahu<br></strong>\n",
    "Student"
   ]
  },
  {
   "cell_type": "markdown",
   "metadata": {},
   "source": [
    "<i>I am intrested in data science because I love to gain insights from data</i>"
   ]
  },
  {
   "cell_type": "markdown",
   "metadata": {},
   "source": [
    "<h3> The following code calculate's the simple intrest by taking 3 parameters i.e principal, rate and time respectively</h3>"
   ]
  },
  {
   "cell_type": "code",
   "execution_count": 2,
   "metadata": {},
   "outputs": [
    {
     "data": {
      "text/plain": [
       "100.0"
      ]
     },
     "execution_count": 2,
     "metadata": {},
     "output_type": "execute_result"
    }
   ],
   "source": [
    "def SI(p,r,t):\n",
    "    return (p*r*t)/100\n",
    "SI(1000,2,5)"
   ]
  },
  {
   "cell_type": "markdown",
   "metadata": {},
   "source": [
    "<ul>\n",
    "    <li>one</li>\n",
    "    <li>two</li>\n",
    "    <li>three</li>\n",
    "    <li>one</li>\n",
    "    <li>two</li>\n",
    "    <li>three</li>\n",
    "</ul>\n",
    "<table>\n",
    "  <tr>\n",
    "    <th>Company</th>\n",
    "    <th>Contact</th>\n",
    "    <th>Country</th>\n",
    "  </tr>\n",
    "  <tr>\n",
    "    <td>Alfreds Futterkiste</td>\n",
    "    <td>Maria Anders</td>\n",
    "    <td>Germany</td>\n",
    "  </tr>\n",
    "  <tr>\n",
    "    <td>Centro comercial Moctezuma</td>\n",
    "    <td>Francisco Chang</td>\n",
    "    <td>Mexico</td>\n",
    "  </tr>\n",
    " </table>\n",
    " \n",
    " <a href=\"www.ibm.com\">www.ibm.com</a>"
   ]
  },
  {
   "cell_type": "code",
   "execution_count": null,
   "metadata": {},
   "outputs": [],
   "source": []
  }
 ],
 "metadata": {
  "kernelspec": {
   "display_name": "Python",
   "language": "python",
   "name": "conda-env-python-py"
  },
  "language_info": {
   "codemirror_mode": {
    "name": "ipython",
    "version": 3
   },
   "file_extension": ".py",
   "mimetype": "text/x-python",
   "name": "python",
   "nbconvert_exporter": "python",
   "pygments_lexer": "ipython3",
   "version": "3.7.12"
  }
 },
 "nbformat": 4,
 "nbformat_minor": 4
}
